{
 "cells": [
  {
   "cell_type": "markdown",
   "metadata": {},
   "source": [
    "## Test function using a statictical test"
   ]
  },
  {
   "cell_type": "code",
   "execution_count": 7,
   "metadata": {},
   "outputs": [],
   "source": [
    "import math\n",
    "import statistics\n",
    "\n",
    "import matplotlib.pyplot as plt\n",
    "import numpy as np\n",
    "from qiskit import execute, QuantumCircuit, QuantumRegister, ClassicalRegister\n",
    "from qiskit.providers.aer import QasmSimulator\n",
    "\n",
    "# Import from Qiskit Aer noise module\n",
    "from qiskit.providers.aer.noise import NoiseModel\n",
    "from qiskit.providers.aer.noise import QuantumError, ReadoutError\n",
    "from qiskit.providers.aer.noise import pauli_error"
   ]
  },
  {
   "cell_type": "markdown",
   "metadata": {},
   "source": [
    "$$ Z = \\frac{R - R'}{s_r}$$\n",
    "\n",
    "Where,\n",
    "\n",
    "R = The number of observed runs\n",
    "\n",
    "R' = The number of expected runs, given as\n",
    "\n",
    "$$R' = \\frac{2 n_1 n_2}{n_1 + n_2} + 1$$\n",
    "$s_r$  = Standard Deviation of the number of runs\n",
    "\n",
    "With n1 and n2 = the number of positive and negative values in the series\n",
    "\n",
    "If Z<1.96 test passes!"
   ]
  },
  {
   "cell_type": "code",
   "execution_count": 8,
   "metadata": {},
   "outputs": [],
   "source": [
    "def runsTest(l, l_median): \n",
    "    '''\n",
    "    Returns Z; If Z>1.96 then numbers are not random\n",
    "    '''\n",
    "  \n",
    "    runs, n1, n2 = 0, 0, 0\n",
    "      \n",
    "    # Checking for start of new run \n",
    "    for i in range(len(l)): \n",
    "          \n",
    "        # no. of runs \n",
    "        if (l[i] >= l_median and l[i-1] < l_median) or (l[i] < l_median and l[i-1] >= l_median): \n",
    "            runs += 1  \n",
    "          \n",
    "        # no. of positive values \n",
    "        if(l[i]) >= l_median: \n",
    "            n1 += 1   \n",
    "          \n",
    "        # no. of negative values \n",
    "        else: \n",
    "            n2 += 1   \n",
    "  \n",
    "    runs_exp = ((2*n1*n2)/(n1+n2))+1\n",
    "    stan_dev = math.sqrt((2*n1*n2*(2*n1*n2-n1-n2))/ (((n1+n2)**2)*(n1+n2-1))) \n",
    "  \n",
    "    z = (runs-runs_exp)/stan_dev \n",
    "  \n",
    "    return z "
   ]
  },
  {
   "cell_type": "code",
   "execution_count": 9,
   "metadata": {},
   "outputs": [],
   "source": [
    "def get_noise():\n",
    "    \n",
    "    '''\n",
    "    It returns the the noise model that uses bit flip error noise model.\n",
    "    When applying a single qubit gate, flip the state of the qubit with probability p_gate1.\n",
    "    When applying a 2-qubit gate apply single-qubit errors to each qubit.\n",
    "    When resetting a qubit reset to 1 instead of 0 with probability p_reset.\n",
    "    When measuring a qubit, flip the state of the qubit with probability p_meas.\n",
    "    '''\n",
    "    \n",
    "    p_reset = 0.03\n",
    "    p_meas = 0.1\n",
    "    p_gate1 = 0.05\n",
    "\n",
    "    # QuantumError objects\n",
    "    error_reset = pauli_error([('X', p_reset), ('I', 1 - p_reset)])\n",
    "    error_meas = pauli_error([('X',p_meas), ('I', 1 - p_meas)])\n",
    "    error_gate1 = pauli_error([('X',p_gate1), ('I', 1 - p_gate1)])\n",
    "    error_gate2 = error_gate1.tensor(error_gate1)\n",
    "\n",
    "    # Add errors to noise model\n",
    "    noise_bit_flip = NoiseModel()\n",
    "    noise_bit_flip.add_all_qubit_quantum_error(error_reset, \"reset\")\n",
    "    noise_bit_flip.add_all_qubit_quantum_error(error_meas, \"measure\")\n",
    "    noise_bit_flip.add_all_qubit_quantum_error(error_gate1, [\"u1\", \"u2\", \"u3\"])\n",
    "    noise_bit_flip.add_all_qubit_quantum_error(error_gate2, [\"cx\"])\n",
    "\n",
    "    return noise_bit_flip\n",
    "\n",
    "def random_number():\n",
    "    '''\n",
    "    Returns random numbers between 0 to 15\n",
    "    '''\n",
    "\n",
    "    circ = QuantumCircuit(4)\n",
    "    simulator = QasmSimulator()\n",
    "\n",
    "    #NQRNS Circuit\n",
    "    for i in range(200):\n",
    "        circ.u3(0,0,0,0)\n",
    "        circ.u3(0,0,0,1)\n",
    "        circ.u3(0,0,0,2)\n",
    "        circ.u3(0,0,0,3)\n",
    "        circ.cx(0,1)\n",
    "        circ.cx(1,2)\n",
    "        circ.cx(0,2)\n",
    "        circ.cx(0,3)\n",
    "        circ.cx(1,3)\n",
    "        circ.cx(2,3)\n",
    "        circ.barrier()\n",
    "\n",
    "    circ.measure_all()\n",
    "\n",
    "    noise_bit_flip = get_noise()\n",
    "    #get output\n",
    "    job = execute(circ, simulator,\n",
    "              basis_gates=noise_bit_flip.basis_gates,\n",
    "              noise_model=noise_bit_flip, shots= 1)\n",
    "    result_bit_flip = job.result()\n",
    "    counts_bit_flip = result_bit_flip.get_counts(0)\n",
    "\n",
    "\n",
    "    num=list(counts_bit_flip.keys())[0]\n",
    "    num = int(num, 2)\n",
    "   \n",
    "\n",
    "    return num"
   ]
  },
  {
   "cell_type": "code",
   "execution_count": 13,
   "metadata": {},
   "outputs": [
    {
     "name": "stdout",
     "output_type": "stream",
     "text": [
      "Z-statistic=  0.20948264539909806\n"
     ]
    }
   ],
   "source": [
    "l= []\n",
    "\n",
    "for i in range(100): \n",
    "    l.append(random_number()) \n",
    "      \n",
    "l_median= statistics.median(l) \n",
    "  \n",
    "Z = abs(runsTest(l, l_median)) \n",
    "  \n",
    "print('Z-statistic= ', Z)"
   ]
  },
  {
   "cell_type": "markdown",
   "metadata": {},
   "source": [
    "Voila! It is well under 1.96 hence the test is passed!"
   ]
  },
  {
   "cell_type": "markdown",
   "metadata": {},
   "source": [
    "## Testing with FFT"
   ]
  },
  {
   "cell_type": "code",
   "execution_count": 12,
   "metadata": {},
   "outputs": [
    {
     "data": {
      "image/png": "[encoded data removed]",
      "text/plain": [
       "<Figure size 432x288 with 1 Axes>"
      ]
     },
     "metadata": {
      "needs_background": "light"
     },
     "output_type": "display_data"
    }
   ],
   "source": [
    "dt = .1 #some time\n",
    "\n",
    "n = 1000 #n-number of datapoints\n",
    "\n",
    "for i in range(1000): \n",
    "    l.append(random_number()) \n",
    "    \n",
    "fhat=np.fft.fft(l,n) #f-data ,n-number of datapoints per set\n",
    "\n",
    "freq=(1/(dt*n))*np.arange(n)\n",
    "\n",
    "PSD2=np.log(np.abs(np.fft.fftshift(fhat))**2)\n",
    "\n",
    "plt.plot(freq.real,PSD2.real)\n",
    "plt.xlabel('frequency')\n",
    "plt.ylabel('number of occurence')\n",
    "plt.show()"
   ]
  },
  {
   "cell_type": "code",
   "execution_count": null,
   "metadata": {},
   "outputs": [],
   "source": []
  }
 ],
 "metadata": {
  "kernelspec": {
   "display_name": "Python 3.8.5 64-bit ('quantum': conda)",
   "language": "python",
   "name": "python38564bitquantumcondac6d49497be9f46f4a52c048f3dd968a0"
  },
  "language_info": {
   "codemirror_mode": {
    "name": "ipython",
    "version": 3
   },
   "file_extension": ".py",
   "mimetype": "text/x-python",
   "name": "python",
   "nbconvert_exporter": "python",
   "pygments_lexer": "ipython3",
   "version": "3.8.5"
  }
 },
 "nbformat": 4,
 "nbformat_minor": 4
}
